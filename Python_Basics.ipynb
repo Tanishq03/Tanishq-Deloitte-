{
 "cells": [
  {
   "cell_type": "code",
   "execution_count": 1,
   "id": "2c35b6a2",
   "metadata": {},
   "outputs": [],
   "source": [
    "def calc(num1,num2,opr):\n",
    "    if(opr==\"+\"):\n",
    "        print(num1+num2)\n",
    "    elif(opr==\"+\"):\n",
    "        print(num1+num2)\n",
    "    elif(opr==\"+\"):\n",
    "        print(num1+num2)\n",
    "    elif(opr==\"+\"):\n",
    "        print(num1+num2)"
   ]
  },
  {
   "cell_type": "code",
   "execution_count": 3,
   "id": "45affa0e",
   "metadata": {},
   "outputs": [
    {
     "name": "stdout",
     "output_type": "stream",
     "text": [
      "3\n",
      "4\n",
      "+\n",
      "7\n"
     ]
    }
   ],
   "source": [
    "_num1=int(input())\n",
    "_num2=int(input())\n",
    "_opr=input()\n",
    "calc(_num1,_num2,_opr)"
   ]
  },
  {
   "cell_type": "code",
   "execution_count": 71,
   "id": "af6e1c4c",
   "metadata": {},
   "outputs": [],
   "source": [
    "def password(pas):\n",
    "    flag1=False\n",
    "    flag2=False\n",
    "    flag3=False\n",
    "    flag4=False\n",
    "    if len(pas)>8:\n",
    "        for i in pas:\n",
    "            if i.isupper():\n",
    "                flag1=True\n",
    "            elif i.islower():\n",
    "                flag2=True\n",
    "            elif(i in '0123456789'):\n",
    "                flag3=True\n",
    "            elif(i in '!@#$%^&*'):\n",
    "                flag4=True\n",
    "        if(flag1 and flag2 and flag3 and flag4):\n",
    "                print(\"Password is Perfect\")\n",
    "        else:\n",
    "            print(\"Password having issue with no,characters,special symbols\")\n",
    "    else:\n",
    "        print(\"Password Having issue with length\")"
   ]
  },
  {
   "cell_type": "code",
   "execution_count": 75,
   "id": "02e80152",
   "metadata": {},
   "outputs": [
    {
     "name": "stdout",
     "output_type": "stream",
     "text": [
      "tk030920@\n",
      "Password having issue with no,characters,special symbols\n"
     ]
    }
   ],
   "source": [
    "_pas=input()\n",
    "password(_pas)"
   ]
  },
  {
   "cell_type": "code",
   "execution_count": 101,
   "id": "d690cd68",
   "metadata": {},
   "outputs": [
    {
     "name": "stdout",
     "output_type": "stream",
     "text": [
      "10\n",
      "0 1 1 2 3 5 8 13 21 34 "
     ]
    }
   ],
   "source": [
    "n=int(input())\n",
    "a=0\n",
    "b=1\n",
    "for i in range(n):\n",
    "    print(a,end=\" \")\n",
    "    c=a+b\n",
    "    a=b\n",
    "    b=c"
   ]
  },
  {
   "cell_type": "code",
   "execution_count": 7,
   "id": "a1bec4fa",
   "metadata": {},
   "outputs": [],
   "source": [
    "def power(n,b):\n",
    "    if (b==0):\n",
    "        return 1\n",
    "    if b==1:\n",
    "        return n\n",
    "    return (n*power(n,b-1))"
   ]
  },
  {
   "cell_type": "code",
   "execution_count": 11,
   "id": "e07971bd",
   "metadata": {},
   "outputs": [],
   "source": [
    "def power(n,b):\n",
    "    if (b==0):\n",
    "        return 1\n",
    "    if b==1:\n",
    "        return n\n",
    "    x=n*power(n,b-1)\n",
    "    print(x)\n",
    "    return x"
   ]
  },
  {
   "cell_type": "code",
   "execution_count": 21,
   "id": "6b0a8ab9",
   "metadata": {},
   "outputs": [
    {
     "name": "stdout",
     "output_type": "stream",
     "text": [
      "[0, 2, 4, 6, 8, 10, 12, 14, 16, 18, 20, 22, 24, 26, 28, 30, 32, 34, 36, 38, 40, 42, 44, 46, 48, 50, 52, 54, 56, 58, 60, 62, 64, 66, 68, 70, 72, 74, 76, 78, 80, 82, 84, 86, 88, 90, 92, 94, 96, 98, 100]\n"
     ]
    }
   ],
   "source": [
    "ev=[i for i in range(0,101,2)]\n",
    "print(ev)"
   ]
  },
  {
   "cell_type": "code",
   "execution_count": 18,
   "id": "39acd5ab",
   "metadata": {},
   "outputs": [
    {
     "name": "stdout",
     "output_type": "stream",
     "text": [
      "qhsinat\n"
     ]
    }
   ],
   "source": [
    "st=\"tanishq\"\n",
    "print(st[::-1])"
   ]
  },
  {
   "cell_type": "code",
   "execution_count": 30,
   "id": "e1ede2b7",
   "metadata": {},
   "outputs": [],
   "source": [
    "def div(n):\n",
    "    for i in range(1,n):\n",
    "        if (i%2==0 or i%3==0 or i%5==0):\n",
    "            print(i)"
   ]
  },
  {
   "cell_type": "code",
   "execution_count": 34,
   "id": "f50fa3bf",
   "metadata": {},
   "outputs": [
    {
     "name": "stdout",
     "output_type": "stream",
     "text": [
      "{2, 3, 4, 5}\n",
      "[2, 3, 4, 5]\n"
     ]
    }
   ],
   "source": [
    "l=[2,2,3,4,5]\n",
    "print(set(l))\n",
    "t=set(l)\n",
    "print(list(t))"
   ]
  },
  {
   "cell_type": "code",
   "execution_count": 49,
   "id": "a034a431",
   "metadata": {},
   "outputs": [
    {
     "name": "stdout",
     "output_type": "stream",
     "text": [
      "['2', '5', '6']\n"
     ]
    }
   ],
   "source": [
    "l=[\"2\",\"\",\"5\",\"6\"]\n",
    "for i in l:\n",
    "    if (len(i)==0):\n",
    "        l.remove(i)\n",
    "print(l)"
   ]
  },
  {
   "cell_type": "code",
   "execution_count": 47,
   "id": "5d89983a",
   "metadata": {},
   "outputs": [
    {
     "name": "stdout",
     "output_type": "stream",
     "text": [
      "[4, 9, 16, 25]\n"
     ]
    }
   ],
   "source": [
    "l=[2,3,4,5]\n",
    "l2=[i**2 for i in l]\n",
    "print(l2)"
   ]
  },
  {
   "cell_type": "code",
   "execution_count": 53,
   "id": "697061f7",
   "metadata": {},
   "outputs": [],
   "source": [
    "l1=[2,3,4,5,6,7]\n",
    "l2=[9,10,11,12,13]\n",
    "l3=l1[0::2]\n",
    "l4=l2[1::2]\n",
    "l5=l3+l4"
   ]
  },
  {
   "cell_type": "code",
   "execution_count": 59,
   "id": "35854a5a",
   "metadata": {},
   "outputs": [
    {
     "name": "stdout",
     "output_type": "stream",
     "text": [
      "{2: 3, 3: 2, 4: 2, 5: 3}\n"
     ]
    }
   ],
   "source": [
    "l=[2,2,2,3,3,4,4,5,5,5]\n",
    "count={}\n",
    "for i in l:\n",
    "    if i in count.keys():\n",
    "        count[i]+=1\n",
    "    else:\n",
    "        count[i]=1\n",
    "print(count)"
   ]
  },
  {
   "cell_type": "code",
   "execution_count": 62,
   "id": "00fbfcd8",
   "metadata": {},
   "outputs": [
    {
     "name": "stdout",
     "output_type": "stream",
     "text": [
      "5 2\n"
     ]
    }
   ],
   "source": [
    "t=set(l)\n",
    "t1=tuple(t)\n",
    "print(max(t1),min(t1))"
   ]
  },
  {
   "cell_type": "code",
   "execution_count": 63,
   "id": "7124a080",
   "metadata": {},
   "outputs": [
    {
     "name": "stdout",
     "output_type": "stream",
     "text": [
      "4\n"
     ]
    }
   ],
   "source": [
    "def factorial(n):\n",
    "    if n==0:\n",
    "        return 1\n",
    "    return n*factorial(n-1)"
   ]
  },
  {
   "cell_type": "code",
   "execution_count": 66,
   "id": "e0b5f178",
   "metadata": {},
   "outputs": [
    {
     "name": "stdout",
     "output_type": "stream",
     "text": [
      "5\n"
     ]
    },
    {
     "data": {
      "text/plain": [
       "120"
      ]
     },
     "execution_count": 66,
     "metadata": {},
     "output_type": "execute_result"
    }
   ],
   "source": [
    "n=int(input())\n",
    "factorial(n)"
   ]
  },
  {
   "cell_type": "code",
   "execution_count": 67,
   "id": "25f6d9f2",
   "metadata": {},
   "outputs": [],
   "source": [
    "import pandas as pd"
   ]
  },
  {
   "cell_type": "code",
   "execution_count": null,
   "id": "f65fe1f7",
   "metadata": {},
   "outputs": [],
   "source": []
  }
 ],
 "metadata": {
  "kernelspec": {
   "display_name": "Python 3 (ipykernel)",
   "language": "python",
   "name": "python3"
  },
  "language_info": {
   "codemirror_mode": {
    "name": "ipython",
    "version": 3
   },
   "file_extension": ".py",
   "mimetype": "text/x-python",
   "name": "python",
   "nbconvert_exporter": "python",
   "pygments_lexer": "ipython3",
   "version": "3.9.13"
  }
 },
 "nbformat": 4,
 "nbformat_minor": 5
}
