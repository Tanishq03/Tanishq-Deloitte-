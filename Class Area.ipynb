{
 "cells": [
  {
   "cell_type": "code",
   "execution_count": 32,
   "id": "b2533f30",
   "metadata": {},
   "outputs": [],
   "source": [
    "class area():\n",
    "    pi=3.14\n",
    "    def __init__(self):\n",
    "        self.name=self\n",
    "    def circle_area(self,r):\n",
    "        r=input(\"Enter the radius\")\n",
    "        print(f'Area of circle is {self.pi*int(r)**2}')\n",
    "    def rectangle_area(self,l,b):\n",
    "        l=input(\"Enter the length\")\n",
    "        b=input(\"Enter the breadth\")\n",
    "        print(f'Area of rectangle is {int(l)*int(b)}')\n",
    "    def square_area(self,a):\n",
    "        a=input(\"Enter the side of the square\")\n",
    "        print(f'Area of sqaure is {int(a)**2}')\n",
    "    @classmethod\n",
    "    def input_value(cls):\n",
    "        print(f'Value of pi is {cls.pi}')\n",
    "    @staticmethod\n",
    "    def area_check(op):\n",
    "        if (op in ['r','l','b','a']):\n",
    "              return (\"Area can be done\")\n",
    "        else:\n",
    "              return (\"Area cannot be done\")"
   ]
  },
  {
   "cell_type": "code",
   "execution_count": 35,
   "id": "917ce381",
   "metadata": {},
   "outputs": [
    {
     "name": "stdout",
     "output_type": "stream",
     "text": [
      "Value of pi is 3.14\n"
     ]
    },
    {
     "data": {
      "text/plain": [
       "'Area can be done'"
      ]
     },
     "execution_count": 35,
     "metadata": {},
     "output_type": "execute_result"
    }
   ],
   "source": [
    "ar=area()\n",
    "ar.input_value()\n",
    "ar.area_check('r')"
   ]
  },
  {
   "cell_type": "code",
   "execution_count": 36,
   "id": "e7c67b55",
   "metadata": {},
   "outputs": [
    {
     "name": "stdout",
     "output_type": "stream",
     "text": [
      "Enter the side of the square5\n",
      "Area of sqaure is 25\n"
     ]
    }
   ],
   "source": [
    "ar.square_area(5)"
   ]
  },
  {
   "cell_type": "code",
   "execution_count": null,
   "id": "eb6032ff",
   "metadata": {},
   "outputs": [],
   "source": []
  }
 ],
 "metadata": {
  "kernelspec": {
   "display_name": "Python 3 (ipykernel)",
   "language": "python",
   "name": "python3"
  },
  "language_info": {
   "codemirror_mode": {
    "name": "ipython",
    "version": 3
   },
   "file_extension": ".py",
   "mimetype": "text/x-python",
   "name": "python",
   "nbconvert_exporter": "python",
   "pygments_lexer": "ipython3",
   "version": "3.9.13"
  }
 },
 "nbformat": 4,
 "nbformat_minor": 5
}
